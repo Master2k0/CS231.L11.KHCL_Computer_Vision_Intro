{
 "metadata": {
  "language_info": {
   "codemirror_mode": {
    "name": "ipython",
    "version": 3
   },
   "file_extension": ".py",
   "mimetype": "text/x-python",
   "name": "python",
   "nbconvert_exporter": "python",
   "pygments_lexer": "ipython3",
   "version": 3
  },
  "orig_nbformat": 2
 },
 "nbformat": 4,
 "nbformat_minor": 2,
 "cells": [
  {
   "source": [
    "\\begin{cases}\n",
    "    a = 1 \\\\\n",
    "    b = 2\n",
    "\\end{cases}"
   ],
   "cell_type": "markdown",
   "metadata": {}
  },
  {
   "source": [
    "Nhận xét \n",
    "- Đội 1:\n",
    "    - Ngày 0 -> 2: $t_1^{'} - t_1 = 0$\n",
    "    - Ngày 3 -> 5: $t_1^{'} - t_1 = 2$\n",
    "    - Ngày 6 -> 8: $t_1^{'} - t_1 = 4$\n",
    "- Đội 2:\n",
    "    - Ngày 0 -> 3: $t_2^{'} - t_2 = 0$\n",
    "    - Ngày 4 -> 7: $t_2^{'} - t_2 = 3$\n",
    "    - Ngày 8 -> 11: $t_2^{'} - t_2 = 6$\n",
    "    \n",
    "Từ nhận xét trên ta rút ra được công thức:\n",
    "$$\n",
    "\\begin{cases}\n",
    "    t_1^{'}(x) - t_1(x) = a\\left\\lfloor\\frac{x}{k}\\right\\rfloor \\\\\n",
    "    t_2^{'}(x) - t_2(x) = b\\left\\lfloor\\frac{x}{m}\\right\\rfloor\n",
    "\\end{cases}\n",
    "$$\n",
    "\n",
    "Mà:\n",
    "\n",
    "$$\n",
    "\\begin{cases}\n",
    "    t_1^{'}(x) = ax \\\\\n",
    "    t_2^{'}(x) = bx\n",
    "\\end{cases} \\\\\n",
    "\n",
    "\\begin{aligned}\n",
    "& \\implies \n",
    "    \\begin{cases}\n",
    "        t_1^{'}(x) - t_1(x) = ax - t_1(x) \\\\\n",
    "        t_2^{'}(x) - t_2(x) = bx - t_2(x) \\\\\n",
    "    \\end{cases} \\\\\n",
    "& \\implies \n",
    "    \\begin{cases}\n",
    "        ax - t_1(x) = a\\left\\lfloor\\frac{x}{k}\\right\\rfloor \\\\\n",
    "        bx - t_2(x) = b\\left\\lfloor\\frac{x}{m}\\right\\rfloor\n",
    "    \\end{cases} \\\\\n",
    "& \\implies \n",
    "    \\begin{cases}\n",
    "        t_1(x) = ax - a\\left\\lfloor\\frac{x}{k}\\right\\rfloor \\\\\n",
    "        t_2(x) = bx - b\\left\\lfloor\\frac{x}{m}\\right\\rfloor\n",
    "    \\end{cases} \\\\\n",
    "& \\implies \n",
    "    \\begin{cases}\n",
    "        t_1(x) = a(x - \\left\\lfloor\\frac{x}{k}\\right\\rfloor) \\\\\n",
    "        t_2(x) = b(x - \\left\\lfloor\\frac{x}{m}\\right\\rfloor)\n",
    "    \\end{cases}\n",
    "\\end{aligned}\n",
    "$$\n",
    "\n",
    "Vậy số cây đội 1 và đội 2 hạ sau x ngày là:\n",
    "\n",
    "$$\n",
    "t(x) = t_1(x) + t_2(x) = a(x - \\left\\lfloor\\frac{x}{k}\\right\\rfloor) \n",
    "                         + b(x - \\left\\lfloor\\frac{x}{m}\\right\\rfloor)\n",
    "$$"
   ],
   "cell_type": "markdown",
   "metadata": {}
  },
  {
   "source": [
    "\\begin{aligned}\n",
    "& a = 1 \\\\\n",
    "& b\n",
    "\\end{aligned}"
   ],
   "cell_type": "markdown",
   "metadata": {}
  }
 ]
}