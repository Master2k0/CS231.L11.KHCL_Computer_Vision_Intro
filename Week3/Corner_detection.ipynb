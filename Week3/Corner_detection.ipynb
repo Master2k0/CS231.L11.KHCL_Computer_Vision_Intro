{
 "metadata": {
  "language_info": {
   "codemirror_mode": {
    "name": "ipython",
    "version": 3
   },
   "file_extension": ".py",
   "mimetype": "text/x-python",
   "name": "python",
   "nbconvert_exporter": "python",
   "pygments_lexer": "ipython3",
   "version": 3
  },
  "orig_nbformat": 2
 },
 "nbformat": 4,
 "nbformat_minor": 2,
 "cells": [
  {
   "cell_type": "code",
   "execution_count": null,
   "metadata": {},
   "outputs": [],
   "source": []
  },
  {
   "source": [
    "# Feature detection and matching"
   ],
   "cell_type": "markdown",
   "metadata": {}
  },
  {
   "source": [
    "## Motivation"
   ],
   "cell_type": "markdown",
   "metadata": {}
  },
  {
   "source": [
    "Features are used for:\n",
    "- Automatic panoramas\n",
    "- Image searching (ex: Google images,...)\n",
    "- Object recognition\n",
    "- 3D reconstruction\n",
    "- Motion tracking\n",
    "- Indexing and content-based retrieval\n",
    "- Robot navigation\n",
    "- ..."
   ],
   "cell_type": "markdown",
   "metadata": {}
  },
  {
   "source": [
    "## Which features are we choosing"
   ],
   "cell_type": "markdown",
   "metadata": {}
  },
  {
   "source": [
    "What are transformations:\n",
    "- Geometric invariance: translation, rotation, scale\n",
    "- Photometric invariance: brightness, exposure\n",
    "\n",
    "Features that are invariant to transformations: corners, blobs,...\n",
    "\n",
    "**What about edges**\n",
    "- Edges can be invariant to brightness changes but typically not invariant to other transformations"
   ],
   "cell_type": "markdown",
   "metadata": {}
  },
  {
   "source": [
    "https://courses.cs.washington.edu/courses/cse455/09wi/Lects/lect6.pdf"
   ],
   "cell_type": "markdown",
   "metadata": {}
  }
 ]
}