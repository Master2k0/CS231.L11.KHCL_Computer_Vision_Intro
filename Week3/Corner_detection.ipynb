{
 "metadata": {
  "language_info": {
   "codemirror_mode": {
    "name": "ipython",
    "version": 3
   },
   "file_extension": ".py",
   "mimetype": "text/x-python",
   "name": "python",
   "nbconvert_exporter": "python",
   "pygments_lexer": "ipython3",
   "version": 3
  },
  "orig_nbformat": 2
 },
 "nbformat": 4,
 "nbformat_minor": 2,
 "cells": [
  {
   "source": [
    "# Feature detection and matching"
   ],
   "cell_type": "markdown",
   "metadata": {}
  },
  {
   "source": [
    "## Motivation"
   ],
   "cell_type": "markdown",
   "metadata": {}
  },
  {
   "source": [
    "Features are used for:\n",
    "- Automatic panoramas\n",
    "- Indexing and content-based retrieval (ex: Google images,...)\n",
    "- Object recognition\n",
    "- 3D reconstruction\n",
    "- Motion tracking\n",
    "- Robot navigation\n",
    "- ..."
   ],
   "cell_type": "markdown",
   "metadata": {}
  },
  {
   "source": [
    "## Which features are good to choose"
   ],
   "cell_type": "markdown",
   "metadata": {}
  },
  {
   "source": [
    "*Choose features that are invariant to transformations*\n",
    "\n",
    "**Invariant local features**\n",
    "- Corners\n",
    "- Blobs\n",
    "- ...\n",
    "\n",
    "**Advantages of local features**:\n",
    "- Locality: robust to occlusion and clutter\n",
    "- Quantity: hundreds or thousands in a single image\n",
    "- Distinctiveness: can differentiate a large database of objects\n",
    "- Efficiency: real-time performance achievale\n",
    "\n",
    "*What about edges*\n",
    "- Edges can be invariant to brightness changes but typically not invariant to other transformations\n",
    "\n",
    "*Note on transformations*:\n",
    "- Geometric invariance: translation, rotation, scale\n",
    "- Photometric invariance: brightness, exposure\n",
    "\n",
    "**Idea to measure the uniqueness of a feature**\n",
    "- Consider a small window of pixels\n",
    "- \"Observe\" how does the window change when you shift it\n",
    "    - \"flat\" region: no change in all directions\n",
    "    - \"edge\" region: no change along the edge direction\n",
    "    - \"corner\": significant change in all directions"
   ],
   "cell_type": "markdown",
   "metadata": {}
  },
  {
   "source": [
    "# Harris corner detection"
   ],
   "cell_type": "markdown",
   "metadata": {}
  },
  {
   "source": [
    "Consider shifting the window $W$ by $(u,v)$\n",
    "\n",
    "Sum of squared differences **(SSD \"error\")**:\n",
    "$$\n",
    "E(u,v) = \\sum_{(x,y)\\in W} (I(x+u, y+v) - I(x, y))^2\n",
    "$$\n",
    "\n",
    "If the motion $(u,v)$ is small, we can calculate the **approximation of** $I(x+u,y+v)$ using Taylor Series:\n",
    "$$\n",
    "\\begin{aligned}\n",
    "    I(x+u,y+v)\n",
    "        & \\approx I(x,y) + \\frac{\\partial I}{\\partial x}u + \\frac{\\partial I}{\\partial y}v \\\\\n",
    "        & \\approx I(x,y) + I_x u + I_y v   \\\\\n",
    "        & \\approx I(x,y) + \\begin{bmatrix}I_x & I_y\\end{bmatrix}\\begin{bmatrix}u \\\\ v\\end{bmatrix}\n",
    "\\end{aligned}\n",
    "$$\n",
    "\n",
    "Plug the approximate $I(x+u,y+v)$ formula into $E$, we have:\n",
    "$$\n",
    "\\begin{aligned}\n",
    "    E(u,v)\n",
    "        & = \\sum_{(x,y)\\in W} (I(x+u, y+v) - I(x, y))^2 \\\\\n",
    "        & \\approx \\sum_{(x,y) \\in W} (I(x,y) + I_x u + I_y v - I(x,y))^2 \\\\\n",
    "        & \\approx \\sum_{(x,y) \\in W} (I_x u + I_y v)^2 \\\\\n",
    "        & \\approx \\sum_{(x,y) \\in W} (I_x^2 u^2 + 2I_xI_yuv + I_y^2 v^2)\n",
    "\\end{aligned}\n",
    "$$\n",
    "\n",
    "Set:\n",
    "$$\n",
    "A = \\sum_{(x,y) \\in W} I_x^2\n",
    "$$\n",
    "$$\n",
    "B = \\sum_{(x,y) \\in W} I_xI_y\n",
    "$$\n",
    "$$\n",
    "C = \\sum_{(x,y) \\in W} I_y^2\n",
    "$$\n",
    "\n",
    "We have:\n",
    "$$\n",
    "\\begin{aligned}\n",
    "    E(x,y) \n",
    "    & \\approx A u^2 + 2Buv + C v^2 \\\\\n",
    "    & \\approx \\begin{bmatrix}u & v\\end{bmatrix}\n",
    "      \\begin{bmatrix}A & B \\\\ B & C\\end{bmatrix}\n",
    "      \\begin{bmatrix}u & v\\end{bmatrix} \n",
    "\\end{aligned}\n",
    "$$"
   ],
   "cell_type": "markdown",
   "metadata": {}
  },
  {
   "source": [
    "https://courses.cs.washington.edu/courses/cse455/09wi/Lects/lect6.pdf"
   ],
   "cell_type": "markdown",
   "metadata": {}
  }
 ]
}